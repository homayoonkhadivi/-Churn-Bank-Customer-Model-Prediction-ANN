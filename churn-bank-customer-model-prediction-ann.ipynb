{
 "cells": [
  {
   "cell_type": "markdown",
   "metadata": {
    "papermill": {
     "duration": 0.027403,
     "end_time": "2021-01-01T09:36:08.853876",
     "exception": false,
     "start_time": "2021-01-01T09:36:08.826473",
     "status": "completed"
    },
    "tags": []
   },
   "source": [
    "# Welcome to my Tutorial for Artificial Neural Network\n",
    "# Artificial Neural Network"
   ]
  },
  {
   "cell_type": "markdown",
   "metadata": {
    "papermill": {
     "duration": 0.026228,
     "end_time": "2021-01-01T09:36:08.907849",
     "exception": false,
     "start_time": "2021-01-01T09:36:08.881621",
     "status": "completed"
    },
    "tags": []
   },
   "source": [
    "# Getting more underestanding about our dataset:\n",
    "* This is a dataset for a bank which collects information about the customers\n",
    "* RowNumber: is an irrelevent feature that we are going to get rid of it in the future \n",
    "* Customerid: is the identification key of each customer\n",
    "* Surname: is the surname of each customer\n",
    "* CreditScore: is the credit score of each customer\n",
    "* Geography: means the conutry which each customer lives in\n",
    "* Gender: is the gender of each customer\n",
    "* Age: is the age of each customer\n",
    "* Tenure:means the number of the year(s) which customer in the bank\n",
    "* Balance: means the amount of money that each customer has in their account\n",
    "* NumOfProducts: the number of the product(s) which customer uses like Credict card, Master Card Etc,\n",
    "* HasCrCard: means if the customer has the credit card, 1 means Yes and 0 means No\n",
    "* isActiveMemebr: means if the customer is active or not which 1 means is a active customer\n",
    "* EstimatedSalary: means the estimated salary of each customer\n",
    "# Target\n",
    "* Exited: means if the customer exists the bank or not, 1 means the customer left the bank "
   ]
  },
  {
   "cell_type": "markdown",
   "metadata": {
    "papermill": {
     "duration": 0.02575,
     "end_time": "2021-01-01T09:36:08.964794",
     "exception": false,
     "start_time": "2021-01-01T09:36:08.939044",
     "status": "completed"
    },
    "tags": []
   },
   "source": [
    "# First, we are going to import the libraries\n"
   ]
  },
  {
   "cell_type": "code",
   "execution_count": 1,
   "metadata": {
    "_cell_guid": "b1076dfc-b9ad-4769-8c92-a6c4dae69d19",
    "_uuid": "8f2839f25d086af736a60e9eeb907d3b93b6e0e5",
    "execution": {
     "iopub.execute_input": "2021-01-01T09:36:09.025512Z",
     "iopub.status.busy": "2021-01-01T09:36:09.024727Z",
     "iopub.status.idle": "2021-01-01T09:36:15.614515Z",
     "shell.execute_reply": "2021-01-01T09:36:15.615047Z"
    },
    "papermill": {
     "duration": 6.62384,
     "end_time": "2021-01-01T09:36:15.615237",
     "exception": false,
     "start_time": "2021-01-01T09:36:08.991397",
     "status": "completed"
    },
    "tags": []
   },
   "outputs": [],
   "source": [
    "import numpy as np\n",
    "import pandas as pd\n",
    "import tensorflow as tf"
   ]
  },
  {
   "cell_type": "code",
   "execution_count": 2,
   "metadata": {
    "execution": {
     "iopub.execute_input": "2021-01-01T09:36:15.678879Z",
     "iopub.status.busy": "2021-01-01T09:36:15.678128Z",
     "iopub.status.idle": "2021-01-01T09:36:15.681317Z",
     "shell.execute_reply": "2021-01-01T09:36:15.681871Z"
    },
    "papermill": {
     "duration": 0.03861,
     "end_time": "2021-01-01T09:36:15.682038",
     "exception": false,
     "start_time": "2021-01-01T09:36:15.643428",
     "status": "completed"
    },
    "tags": []
   },
   "outputs": [
    {
     "data": {
      "text/plain": [
       "'2.3.1'"
      ]
     },
     "execution_count": 2,
     "metadata": {},
     "output_type": "execute_result"
    }
   ],
   "source": [
    "tf.__version__"
   ]
  },
  {
   "cell_type": "markdown",
   "metadata": {
    "papermill": {
     "duration": 0.026394,
     "end_time": "2021-01-01T09:36:15.735502",
     "exception": false,
     "start_time": "2021-01-01T09:36:15.709108",
     "status": "completed"
    },
    "tags": []
   },
   "source": [
    "Great! we have tensorflow 2 and this works much better than tensorflow 1 "
   ]
  },
  {
   "cell_type": "markdown",
   "metadata": {
    "papermill": {
     "duration": 0.026233,
     "end_time": "2021-01-01T09:36:15.788465",
     "exception": false,
     "start_time": "2021-01-01T09:36:15.762232",
     "status": "completed"
    },
    "tags": []
   },
   "source": [
    "# Let's import the dataset into the kernel"
   ]
  },
  {
   "cell_type": "markdown",
   "metadata": {
    "papermill": {
     "duration": 0.026204,
     "end_time": "2021-01-01T09:36:15.841366",
     "exception": false,
     "start_time": "2021-01-01T09:36:15.815162",
     "status": "completed"
    },
    "tags": []
   },
   "source": [
    "## Part 1 - Data Preprocessing"
   ]
  },
  {
   "cell_type": "code",
   "execution_count": 3,
   "metadata": {
    "_cell_guid": "79c7e3d0-c299-4dcb-8224-4455121ee9b0",
    "_uuid": "d629ff2d2480ee46fbb7e2d37f6b5fab8052498a",
    "execution": {
     "iopub.execute_input": "2021-01-01T09:36:15.908414Z",
     "iopub.status.busy": "2021-01-01T09:36:15.907627Z",
     "iopub.status.idle": "2021-01-01T09:36:15.963954Z",
     "shell.execute_reply": "2021-01-01T09:36:15.962461Z"
    },
    "papermill": {
     "duration": 0.095807,
     "end_time": "2021-01-01T09:36:15.964094",
     "exception": false,
     "start_time": "2021-01-01T09:36:15.868287",
     "status": "completed"
    },
    "tags": []
   },
   "outputs": [],
   "source": [
    "dataset = pd.read_csv('../input/churn-predictions-personal/Churn_Predictions.csv')\n",
    "X = dataset.iloc[:, 3:-1].values #we select all th features except RowNumber, Customerid, Surname, Exited\n",
    "y = dataset.iloc[:, -1].values #we select the target feature Exited for the y"
   ]
  },
  {
   "cell_type": "code",
   "execution_count": 4,
   "metadata": {
    "execution": {
     "iopub.execute_input": "2021-01-01T09:36:16.038180Z",
     "iopub.status.busy": "2021-01-01T09:36:16.037445Z",
     "iopub.status.idle": "2021-01-01T09:36:16.050836Z",
     "shell.execute_reply": "2021-01-01T09:36:16.050275Z"
    },
    "papermill": {
     "duration": 0.059953,
     "end_time": "2021-01-01T09:36:16.050962",
     "exception": false,
     "start_time": "2021-01-01T09:36:15.991009",
     "status": "completed"
    },
    "tags": []
   },
   "outputs": [
    {
     "data": {
      "text/html": [
       "<div>\n",
       "<style scoped>\n",
       "    .dataframe tbody tr th:only-of-type {\n",
       "        vertical-align: middle;\n",
       "    }\n",
       "\n",
       "    .dataframe tbody tr th {\n",
       "        vertical-align: top;\n",
       "    }\n",
       "\n",
       "    .dataframe thead th {\n",
       "        text-align: right;\n",
       "    }\n",
       "</style>\n",
       "<table border=\"1\" class=\"dataframe\">\n",
       "  <thead>\n",
       "    <tr style=\"text-align: right;\">\n",
       "      <th></th>\n",
       "      <th>RowNumber</th>\n",
       "      <th>CustomerId</th>\n",
       "      <th>Surname</th>\n",
       "      <th>CreditScore</th>\n",
       "      <th>Geography</th>\n",
       "      <th>Gender</th>\n",
       "      <th>Age</th>\n",
       "      <th>Tenure</th>\n",
       "      <th>Balance</th>\n",
       "      <th>NumOfProducts</th>\n",
       "      <th>HasCrCard</th>\n",
       "      <th>IsActiveMember</th>\n",
       "      <th>EstimatedSalary</th>\n",
       "      <th>Exited</th>\n",
       "    </tr>\n",
       "  </thead>\n",
       "  <tbody>\n",
       "    <tr>\n",
       "      <th>0</th>\n",
       "      <td>1</td>\n",
       "      <td>15634602</td>\n",
       "      <td>Hargrave</td>\n",
       "      <td>619</td>\n",
       "      <td>France</td>\n",
       "      <td>Female</td>\n",
       "      <td>42</td>\n",
       "      <td>2</td>\n",
       "      <td>0.00</td>\n",
       "      <td>1</td>\n",
       "      <td>1</td>\n",
       "      <td>1</td>\n",
       "      <td>101348.88</td>\n",
       "      <td>1</td>\n",
       "    </tr>\n",
       "    <tr>\n",
       "      <th>1</th>\n",
       "      <td>2</td>\n",
       "      <td>15647311</td>\n",
       "      <td>Hill</td>\n",
       "      <td>608</td>\n",
       "      <td>Spain</td>\n",
       "      <td>Female</td>\n",
       "      <td>41</td>\n",
       "      <td>1</td>\n",
       "      <td>83807.86</td>\n",
       "      <td>1</td>\n",
       "      <td>0</td>\n",
       "      <td>1</td>\n",
       "      <td>112542.58</td>\n",
       "      <td>0</td>\n",
       "    </tr>\n",
       "    <tr>\n",
       "      <th>2</th>\n",
       "      <td>3</td>\n",
       "      <td>15619304</td>\n",
       "      <td>Onio</td>\n",
       "      <td>502</td>\n",
       "      <td>France</td>\n",
       "      <td>Female</td>\n",
       "      <td>42</td>\n",
       "      <td>8</td>\n",
       "      <td>159660.80</td>\n",
       "      <td>3</td>\n",
       "      <td>1</td>\n",
       "      <td>0</td>\n",
       "      <td>113931.57</td>\n",
       "      <td>1</td>\n",
       "    </tr>\n",
       "    <tr>\n",
       "      <th>3</th>\n",
       "      <td>4</td>\n",
       "      <td>15701354</td>\n",
       "      <td>Boni</td>\n",
       "      <td>699</td>\n",
       "      <td>France</td>\n",
       "      <td>Female</td>\n",
       "      <td>39</td>\n",
       "      <td>1</td>\n",
       "      <td>0.00</td>\n",
       "      <td>2</td>\n",
       "      <td>0</td>\n",
       "      <td>0</td>\n",
       "      <td>93826.63</td>\n",
       "      <td>0</td>\n",
       "    </tr>\n",
       "    <tr>\n",
       "      <th>4</th>\n",
       "      <td>5</td>\n",
       "      <td>15737888</td>\n",
       "      <td>Mitchell</td>\n",
       "      <td>850</td>\n",
       "      <td>Spain</td>\n",
       "      <td>Female</td>\n",
       "      <td>43</td>\n",
       "      <td>2</td>\n",
       "      <td>125510.82</td>\n",
       "      <td>1</td>\n",
       "      <td>1</td>\n",
       "      <td>1</td>\n",
       "      <td>79084.10</td>\n",
       "      <td>0</td>\n",
       "    </tr>\n",
       "  </tbody>\n",
       "</table>\n",
       "</div>"
      ],
      "text/plain": [
       "   RowNumber  CustomerId   Surname  CreditScore Geography  Gender  Age  \\\n",
       "0          1    15634602  Hargrave          619    France  Female   42   \n",
       "1          2    15647311      Hill          608     Spain  Female   41   \n",
       "2          3    15619304      Onio          502    France  Female   42   \n",
       "3          4    15701354      Boni          699    France  Female   39   \n",
       "4          5    15737888  Mitchell          850     Spain  Female   43   \n",
       "\n",
       "   Tenure    Balance  NumOfProducts  HasCrCard  IsActiveMember  \\\n",
       "0       2       0.00              1          1               1   \n",
       "1       1   83807.86              1          0               1   \n",
       "2       8  159660.80              3          1               0   \n",
       "3       1       0.00              2          0               0   \n",
       "4       2  125510.82              1          1               1   \n",
       "\n",
       "   EstimatedSalary  Exited  \n",
       "0        101348.88       1  \n",
       "1        112542.58       0  \n",
       "2        113931.57       1  \n",
       "3         93826.63       0  \n",
       "4         79084.10       0  "
      ]
     },
     "execution_count": 4,
     "metadata": {},
     "output_type": "execute_result"
    }
   ],
   "source": [
    "dataset.head()"
   ]
  },
  {
   "cell_type": "code",
   "execution_count": 5,
   "metadata": {
    "execution": {
     "iopub.execute_input": "2021-01-01T09:36:16.112098Z",
     "iopub.status.busy": "2021-01-01T09:36:16.111088Z",
     "iopub.status.idle": "2021-01-01T09:36:16.115046Z",
     "shell.execute_reply": "2021-01-01T09:36:16.115615Z"
    },
    "papermill": {
     "duration": 0.037431,
     "end_time": "2021-01-01T09:36:16.115795",
     "exception": false,
     "start_time": "2021-01-01T09:36:16.078364",
     "status": "completed"
    },
    "tags": []
   },
   "outputs": [
    {
     "name": "stdout",
     "output_type": "stream",
     "text": [
      "[[619 'France' 'Female' ... 1 1 101348.88]\n",
      " [608 'Spain' 'Female' ... 0 1 112542.58]\n",
      " [502 'France' 'Female' ... 1 0 113931.57]\n",
      " ...\n",
      " [709 'France' 'Female' ... 0 1 42085.58]\n",
      " [772 'Germany' 'Male' ... 1 0 92888.52]\n",
      " [792 'France' 'Female' ... 1 0 38190.78]]\n"
     ]
    }
   ],
   "source": [
    "print(X)"
   ]
  },
  {
   "cell_type": "code",
   "execution_count": 6,
   "metadata": {
    "execution": {
     "iopub.execute_input": "2021-01-01T09:36:16.178582Z",
     "iopub.status.busy": "2021-01-01T09:36:16.177512Z",
     "iopub.status.idle": "2021-01-01T09:36:16.181650Z",
     "shell.execute_reply": "2021-01-01T09:36:16.182289Z"
    },
    "papermill": {
     "duration": 0.037953,
     "end_time": "2021-01-01T09:36:16.182483",
     "exception": false,
     "start_time": "2021-01-01T09:36:16.144530",
     "status": "completed"
    },
    "tags": []
   },
   "outputs": [
    {
     "name": "stdout",
     "output_type": "stream",
     "text": [
      "[1 0 1 ... 1 1 0]\n"
     ]
    }
   ],
   "source": [
    "print(y)"
   ]
  },
  {
   "cell_type": "markdown",
   "metadata": {
    "papermill": {
     "duration": 0.028652,
     "end_time": "2021-01-01T09:36:16.240272",
     "exception": false,
     "start_time": "2021-01-01T09:36:16.211620",
     "status": "completed"
    },
    "tags": []
   },
   "source": [
    "### Encoding categorical data"
   ]
  },
  {
   "cell_type": "markdown",
   "metadata": {
    "papermill": {
     "duration": 0.028126,
     "end_time": "2021-01-01T09:36:16.297325",
     "exception": false,
     "start_time": "2021-01-01T09:36:16.269199",
     "status": "completed"
    },
    "tags": []
   },
   "source": [
    "# Label Encoding the \"Gender\" column"
   ]
  },
  {
   "cell_type": "code",
   "execution_count": 7,
   "metadata": {
    "execution": {
     "iopub.execute_input": "2021-01-01T09:36:16.361558Z",
     "iopub.status.busy": "2021-01-01T09:36:16.360890Z",
     "iopub.status.idle": "2021-01-01T09:36:17.221244Z",
     "shell.execute_reply": "2021-01-01T09:36:17.221839Z"
    },
    "papermill": {
     "duration": 0.895432,
     "end_time": "2021-01-01T09:36:17.222027",
     "exception": false,
     "start_time": "2021-01-01T09:36:16.326595",
     "status": "completed"
    },
    "tags": []
   },
   "outputs": [],
   "source": [
    "from sklearn.preprocessing import LabelEncoder\n",
    "le = LabelEncoder()\n",
    "X[:, 2] = le.fit_transform(X[:, 2])"
   ]
  },
  {
   "cell_type": "code",
   "execution_count": 8,
   "metadata": {
    "execution": {
     "iopub.execute_input": "2021-01-01T09:36:17.283747Z",
     "iopub.status.busy": "2021-01-01T09:36:17.283120Z",
     "iopub.status.idle": "2021-01-01T09:36:17.289949Z",
     "shell.execute_reply": "2021-01-01T09:36:17.290446Z"
    },
    "papermill": {
     "duration": 0.039405,
     "end_time": "2021-01-01T09:36:17.290610",
     "exception": false,
     "start_time": "2021-01-01T09:36:17.251205",
     "status": "completed"
    },
    "tags": []
   },
   "outputs": [
    {
     "name": "stdout",
     "output_type": "stream",
     "text": [
      "[[619 'France' 0 ... 1 1 101348.88]\n",
      " [608 'Spain' 0 ... 0 1 112542.58]\n",
      " [502 'France' 0 ... 1 0 113931.57]\n",
      " ...\n",
      " [709 'France' 0 ... 0 1 42085.58]\n",
      " [772 'Germany' 1 ... 1 0 92888.52]\n",
      " [792 'France' 0 ... 1 0 38190.78]]\n"
     ]
    }
   ],
   "source": [
    "print(X)"
   ]
  },
  {
   "cell_type": "markdown",
   "metadata": {
    "papermill": {
     "duration": 0.028998,
     "end_time": "2021-01-01T09:36:17.348968",
     "exception": false,
     "start_time": "2021-01-01T09:36:17.319970",
     "status": "completed"
    },
    "tags": []
   },
   "source": [
    "Great, we encoded the Gender feature, we have 0 code for Female category"
   ]
  },
  {
   "cell_type": "markdown",
   "metadata": {
    "papermill": {
     "duration": 0.028975,
     "end_time": "2021-01-01T09:36:17.407112",
     "exception": false,
     "start_time": "2021-01-01T09:36:17.378137",
     "status": "completed"
    },
    "tags": []
   },
   "source": [
    "* One Hot Encoding the \"Geography\" column"
   ]
  },
  {
   "cell_type": "code",
   "execution_count": 9,
   "metadata": {
    "execution": {
     "iopub.execute_input": "2021-01-01T09:36:17.473960Z",
     "iopub.status.busy": "2021-01-01T09:36:17.473057Z",
     "iopub.status.idle": "2021-01-01T09:36:17.500607Z",
     "shell.execute_reply": "2021-01-01T09:36:17.501139Z"
    },
    "papermill": {
     "duration": 0.064058,
     "end_time": "2021-01-01T09:36:17.501314",
     "exception": false,
     "start_time": "2021-01-01T09:36:17.437256",
     "status": "completed"
    },
    "tags": []
   },
   "outputs": [],
   "source": [
    "from sklearn.compose import ColumnTransformer\n",
    "from sklearn.preprocessing import OneHotEncoder\n",
    "ct = ColumnTransformer(transformers=[('encoder', OneHotEncoder(), [1])], remainder='passthrough')\n",
    "X = np.array(ct.fit_transform(X))"
   ]
  },
  {
   "cell_type": "code",
   "execution_count": 10,
   "metadata": {
    "execution": {
     "iopub.execute_input": "2021-01-01T09:36:17.567728Z",
     "iopub.status.busy": "2021-01-01T09:36:17.566642Z",
     "iopub.status.idle": "2021-01-01T09:36:17.570499Z",
     "shell.execute_reply": "2021-01-01T09:36:17.571216Z"
    },
    "papermill": {
     "duration": 0.039784,
     "end_time": "2021-01-01T09:36:17.571374",
     "exception": false,
     "start_time": "2021-01-01T09:36:17.531590",
     "status": "completed"
    },
    "tags": []
   },
   "outputs": [
    {
     "name": "stdout",
     "output_type": "stream",
     "text": [
      "[[1.0 0.0 0.0 ... 1 1 101348.88]\n",
      " [0.0 0.0 1.0 ... 0 1 112542.58]\n",
      " [1.0 0.0 0.0 ... 1 0 113931.57]\n",
      " ...\n",
      " [1.0 0.0 0.0 ... 0 1 42085.58]\n",
      " [0.0 1.0 0.0 ... 1 0 92888.52]\n",
      " [1.0 0.0 0.0 ... 1 0 38190.78]]\n"
     ]
    }
   ],
   "source": [
    "print(X)"
   ]
  },
  {
   "cell_type": "markdown",
   "metadata": {
    "papermill": {
     "duration": 0.030391,
     "end_time": "2021-01-01T09:36:17.632468",
     "exception": false,
     "start_time": "2021-01-01T09:36:17.602077",
     "status": "completed"
    },
    "tags": []
   },
   "source": [
    "Great, we encoded the Geography Column"
   ]
  },
  {
   "cell_type": "markdown",
   "metadata": {
    "papermill": {
     "duration": 0.029476,
     "end_time": "2021-01-01T09:36:17.692227",
     "exception": false,
     "start_time": "2021-01-01T09:36:17.662751",
     "status": "completed"
    },
    "tags": []
   },
   "source": [
    "### Splitting the dataset into the Training set and Test set"
   ]
  },
  {
   "cell_type": "code",
   "execution_count": 11,
   "metadata": {
    "execution": {
     "iopub.execute_input": "2021-01-01T09:36:17.758023Z",
     "iopub.status.busy": "2021-01-01T09:36:17.757364Z",
     "iopub.status.idle": "2021-01-01T09:36:17.826358Z",
     "shell.execute_reply": "2021-01-01T09:36:17.826965Z"
    },
    "papermill": {
     "duration": 0.104635,
     "end_time": "2021-01-01T09:36:17.827144",
     "exception": false,
     "start_time": "2021-01-01T09:36:17.722509",
     "status": "completed"
    },
    "tags": []
   },
   "outputs": [],
   "source": [
    "from sklearn.model_selection import train_test_split\n",
    "X_train, X_test, y_train, y_test = train_test_split(X, y, test_size = 0.2, random_state = 0)"
   ]
  },
  {
   "cell_type": "markdown",
   "metadata": {
    "papermill": {
     "duration": 0.029825,
     "end_time": "2021-01-01T09:36:17.887977",
     "exception": false,
     "start_time": "2021-01-01T09:36:17.858152",
     "status": "completed"
    },
    "tags": []
   },
   "source": [
    "### Feature Scaling\n",
    "* Notice: This is a very important and fundamental step for implementing the Deep Learning "
   ]
  },
  {
   "cell_type": "code",
   "execution_count": 12,
   "metadata": {
    "execution": {
     "iopub.execute_input": "2021-01-01T09:36:17.963740Z",
     "iopub.status.busy": "2021-01-01T09:36:17.962960Z",
     "iopub.status.idle": "2021-01-01T09:36:17.981541Z",
     "shell.execute_reply": "2021-01-01T09:36:17.980947Z"
    },
    "papermill": {
     "duration": 0.063341,
     "end_time": "2021-01-01T09:36:17.981669",
     "exception": false,
     "start_time": "2021-01-01T09:36:17.918328",
     "status": "completed"
    },
    "tags": []
   },
   "outputs": [],
   "source": [
    "from sklearn.preprocessing import StandardScaler\n",
    "sc = StandardScaler()\n",
    "X_train = sc.fit_transform(X_train)\n",
    "X_test = sc.transform(X_test)"
   ]
  },
  {
   "cell_type": "markdown",
   "metadata": {
    "papermill": {
     "duration": 0.030324,
     "end_time": "2021-01-01T09:36:18.043147",
     "exception": false,
     "start_time": "2021-01-01T09:36:18.012823",
     "status": "completed"
    },
    "tags": []
   },
   "source": [
    "## Part 2 - Building the ANN"
   ]
  },
  {
   "cell_type": "markdown",
   "metadata": {
    "papermill": {
     "duration": 0.029278,
     "end_time": "2021-01-01T09:36:18.102527",
     "exception": false,
     "start_time": "2021-01-01T09:36:18.073249",
     "status": "completed"
    },
    "tags": []
   },
   "source": [
    "### Initializing the ANN"
   ]
  },
  {
   "cell_type": "code",
   "execution_count": 13,
   "metadata": {
    "execution": {
     "iopub.execute_input": "2021-01-01T09:36:18.166223Z",
     "iopub.status.busy": "2021-01-01T09:36:18.165445Z",
     "iopub.status.idle": "2021-01-01T09:36:18.243452Z",
     "shell.execute_reply": "2021-01-01T09:36:18.242761Z"
    },
    "papermill": {
     "duration": 0.111126,
     "end_time": "2021-01-01T09:36:18.243579",
     "exception": false,
     "start_time": "2021-01-01T09:36:18.132453",
     "status": "completed"
    },
    "tags": []
   },
   "outputs": [],
   "source": [
    "ann = tf.keras.models.Sequential()"
   ]
  },
  {
   "cell_type": "markdown",
   "metadata": {
    "papermill": {
     "duration": 0.03016,
     "end_time": "2021-01-01T09:36:18.305167",
     "exception": false,
     "start_time": "2021-01-01T09:36:18.275007",
     "status": "completed"
    },
    "tags": []
   },
   "source": [
    "### Adding the input layer and the first hidden layer"
   ]
  },
  {
   "cell_type": "code",
   "execution_count": 14,
   "metadata": {
    "execution": {
     "iopub.execute_input": "2021-01-01T09:36:18.379558Z",
     "iopub.status.busy": "2021-01-01T09:36:18.378399Z",
     "iopub.status.idle": "2021-01-01T09:36:18.382452Z",
     "shell.execute_reply": "2021-01-01T09:36:18.383113Z"
    },
    "papermill": {
     "duration": 0.04399,
     "end_time": "2021-01-01T09:36:18.383274",
     "exception": false,
     "start_time": "2021-01-01T09:36:18.339284",
     "status": "completed"
    },
    "tags": []
   },
   "outputs": [],
   "source": [
    "ann.add(tf.keras.layers.Dense(units=6, activation='relu'))"
   ]
  },
  {
   "cell_type": "markdown",
   "metadata": {
    "papermill": {
     "duration": 0.030855,
     "end_time": "2021-01-01T09:36:18.444479",
     "exception": false,
     "start_time": "2021-01-01T09:36:18.413624",
     "status": "completed"
    },
    "tags": []
   },
   "source": [
    "### Adding the second hidden layer"
   ]
  },
  {
   "cell_type": "code",
   "execution_count": 15,
   "metadata": {
    "execution": {
     "iopub.execute_input": "2021-01-01T09:36:18.509642Z",
     "iopub.status.busy": "2021-01-01T09:36:18.508561Z",
     "iopub.status.idle": "2021-01-01T09:36:18.515029Z",
     "shell.execute_reply": "2021-01-01T09:36:18.515531Z"
    },
    "papermill": {
     "duration": 0.040979,
     "end_time": "2021-01-01T09:36:18.515692",
     "exception": false,
     "start_time": "2021-01-01T09:36:18.474713",
     "status": "completed"
    },
    "tags": []
   },
   "outputs": [],
   "source": [
    "ann.add(tf.keras.layers.Dense(units=6, activation='relu'))"
   ]
  },
  {
   "cell_type": "markdown",
   "metadata": {
    "papermill": {
     "duration": 0.03046,
     "end_time": "2021-01-01T09:36:18.577090",
     "exception": false,
     "start_time": "2021-01-01T09:36:18.546630",
     "status": "completed"
    },
    "tags": []
   },
   "source": [
    "### Adding the output layer"
   ]
  },
  {
   "cell_type": "code",
   "execution_count": 16,
   "metadata": {
    "execution": {
     "iopub.execute_input": "2021-01-01T09:36:18.642434Z",
     "iopub.status.busy": "2021-01-01T09:36:18.641405Z",
     "iopub.status.idle": "2021-01-01T09:36:18.648653Z",
     "shell.execute_reply": "2021-01-01T09:36:18.647955Z"
    },
    "papermill": {
     "duration": 0.041614,
     "end_time": "2021-01-01T09:36:18.648798",
     "exception": false,
     "start_time": "2021-01-01T09:36:18.607184",
     "status": "completed"
    },
    "tags": []
   },
   "outputs": [],
   "source": [
    "ann.add(tf.keras.layers.Dense(units=1, activation='sigmoid'))"
   ]
  },
  {
   "cell_type": "markdown",
   "metadata": {
    "papermill": {
     "duration": 0.03032,
     "end_time": "2021-01-01T09:36:18.709921",
     "exception": false,
     "start_time": "2021-01-01T09:36:18.679601",
     "status": "completed"
    },
    "tags": []
   },
   "source": [
    "## Part 3 - Training the ANN"
   ]
  },
  {
   "cell_type": "markdown",
   "metadata": {
    "papermill": {
     "duration": 0.029861,
     "end_time": "2021-01-01T09:36:18.770712",
     "exception": false,
     "start_time": "2021-01-01T09:36:18.740851",
     "status": "completed"
    },
    "tags": []
   },
   "source": [
    "### Compiling the ANN"
   ]
  },
  {
   "cell_type": "code",
   "execution_count": 17,
   "metadata": {
    "execution": {
     "iopub.execute_input": "2021-01-01T09:36:18.835232Z",
     "iopub.status.busy": "2021-01-01T09:36:18.834542Z",
     "iopub.status.idle": "2021-01-01T09:36:18.856122Z",
     "shell.execute_reply": "2021-01-01T09:36:18.855487Z"
    },
    "papermill": {
     "duration": 0.054989,
     "end_time": "2021-01-01T09:36:18.856249",
     "exception": false,
     "start_time": "2021-01-01T09:36:18.801260",
     "status": "completed"
    },
    "tags": []
   },
   "outputs": [],
   "source": [
    "ann.compile(optimizer = 'adam', loss = 'binary_crossentropy', metrics = ['accuracy'])"
   ]
  },
  {
   "cell_type": "code",
   "execution_count": 18,
   "metadata": {
    "execution": {
     "iopub.execute_input": "2021-01-01T09:36:18.925269Z",
     "iopub.status.busy": "2021-01-01T09:36:18.924539Z",
     "iopub.status.idle": "2021-01-01T09:36:46.388943Z",
     "shell.execute_reply": "2021-01-01T09:36:46.388373Z"
    },
    "papermill": {
     "duration": 27.501141,
     "end_time": "2021-01-01T09:36:46.389073",
     "exception": false,
     "start_time": "2021-01-01T09:36:18.887932",
     "status": "completed"
    },
    "tags": []
   },
   "outputs": [
    {
     "name": "stdout",
     "output_type": "stream",
     "text": [
      "Epoch 1/100\n",
      "250/250 [==============================] - 0s 987us/step - loss: 0.5302 - accuracy: 0.7874\n",
      "Epoch 2/100\n",
      "250/250 [==============================] - 0s 987us/step - loss: 0.4687 - accuracy: 0.7960\n",
      "Epoch 3/100\n",
      "250/250 [==============================] - 0s 1ms/step - loss: 0.4497 - accuracy: 0.7966\n",
      "Epoch 4/100\n",
      "250/250 [==============================] - 0s 1ms/step - loss: 0.4385 - accuracy: 0.8033\n",
      "Epoch 5/100\n",
      "250/250 [==============================] - 0s 1ms/step - loss: 0.4310 - accuracy: 0.8089\n",
      "Epoch 6/100\n",
      "250/250 [==============================] - 0s 1ms/step - loss: 0.4256 - accuracy: 0.8134\n",
      "Epoch 7/100\n",
      "250/250 [==============================] - 0s 1ms/step - loss: 0.4204 - accuracy: 0.8135\n",
      "Epoch 8/100\n",
      "250/250 [==============================] - 0s 993us/step - loss: 0.4159 - accuracy: 0.8163\n",
      "Epoch 9/100\n",
      "250/250 [==============================] - 0s 1ms/step - loss: 0.4115 - accuracy: 0.8167\n",
      "Epoch 10/100\n",
      "250/250 [==============================] - 0s 1ms/step - loss: 0.4073 - accuracy: 0.8184\n",
      "Epoch 11/100\n",
      "250/250 [==============================] - 0s 1ms/step - loss: 0.4031 - accuracy: 0.8206\n",
      "Epoch 12/100\n",
      "250/250 [==============================] - 0s 980us/step - loss: 0.3985 - accuracy: 0.8255\n",
      "Epoch 13/100\n",
      "250/250 [==============================] - 0s 1ms/step - loss: 0.3945 - accuracy: 0.8270\n",
      "Epoch 14/100\n",
      "250/250 [==============================] - 0s 1ms/step - loss: 0.3899 - accuracy: 0.8296\n",
      "Epoch 15/100\n",
      "250/250 [==============================] - 0s 1ms/step - loss: 0.3858 - accuracy: 0.8344\n",
      "Epoch 16/100\n",
      "250/250 [==============================] - 0s 1ms/step - loss: 0.3819 - accuracy: 0.8372\n",
      "Epoch 17/100\n",
      "250/250 [==============================] - 0s 1ms/step - loss: 0.3778 - accuracy: 0.8400\n",
      "Epoch 18/100\n",
      "250/250 [==============================] - 0s 1ms/step - loss: 0.3740 - accuracy: 0.8421\n",
      "Epoch 19/100\n",
      "250/250 [==============================] - 0s 1ms/step - loss: 0.3708 - accuracy: 0.8453\n",
      "Epoch 20/100\n",
      "250/250 [==============================] - 0s 1ms/step - loss: 0.3679 - accuracy: 0.8450\n",
      "Epoch 21/100\n",
      "250/250 [==============================] - 0s 1ms/step - loss: 0.3652 - accuracy: 0.8469\n",
      "Epoch 22/100\n",
      "250/250 [==============================] - 0s 1ms/step - loss: 0.3627 - accuracy: 0.8484\n",
      "Epoch 23/100\n",
      "250/250 [==============================] - 0s 1ms/step - loss: 0.3605 - accuracy: 0.8487\n",
      "Epoch 24/100\n",
      "250/250 [==============================] - 0s 1ms/step - loss: 0.3590 - accuracy: 0.8490\n",
      "Epoch 25/100\n",
      "250/250 [==============================] - 0s 1ms/step - loss: 0.3570 - accuracy: 0.8491\n",
      "Epoch 26/100\n",
      "250/250 [==============================] - 0s 1ms/step - loss: 0.3557 - accuracy: 0.8503\n",
      "Epoch 27/100\n",
      "250/250 [==============================] - 0s 1ms/step - loss: 0.3543 - accuracy: 0.8515\n",
      "Epoch 28/100\n",
      "250/250 [==============================] - 0s 1ms/step - loss: 0.3533 - accuracy: 0.8516\n",
      "Epoch 29/100\n",
      "250/250 [==============================] - 0s 1ms/step - loss: 0.3520 - accuracy: 0.8534\n",
      "Epoch 30/100\n",
      "250/250 [==============================] - 0s 1ms/step - loss: 0.3512 - accuracy: 0.8537\n",
      "Epoch 31/100\n",
      "250/250 [==============================] - 0s 1ms/step - loss: 0.3500 - accuracy: 0.8545\n",
      "Epoch 32/100\n",
      "250/250 [==============================] - 0s 1ms/step - loss: 0.3493 - accuracy: 0.8562\n",
      "Epoch 33/100\n",
      "250/250 [==============================] - 0s 1ms/step - loss: 0.3483 - accuracy: 0.8555\n",
      "Epoch 34/100\n",
      "250/250 [==============================] - 0s 1ms/step - loss: 0.3478 - accuracy: 0.8574\n",
      "Epoch 35/100\n",
      "250/250 [==============================] - 0s 1ms/step - loss: 0.3473 - accuracy: 0.8575\n",
      "Epoch 36/100\n",
      "250/250 [==============================] - 0s 1ms/step - loss: 0.3462 - accuracy: 0.8577\n",
      "Epoch 37/100\n",
      "250/250 [==============================] - 0s 1ms/step - loss: 0.3457 - accuracy: 0.8580\n",
      "Epoch 38/100\n",
      "250/250 [==============================] - 0s 1ms/step - loss: 0.3450 - accuracy: 0.8595\n",
      "Epoch 39/100\n",
      "250/250 [==============================] - 0s 1ms/step - loss: 0.3445 - accuracy: 0.8596\n",
      "Epoch 40/100\n",
      "250/250 [==============================] - 0s 1ms/step - loss: 0.3437 - accuracy: 0.8614\n",
      "Epoch 41/100\n",
      "250/250 [==============================] - 0s 1ms/step - loss: 0.3431 - accuracy: 0.8605\n",
      "Epoch 42/100\n",
      "250/250 [==============================] - 0s 1ms/step - loss: 0.3426 - accuracy: 0.8612\n",
      "Epoch 43/100\n",
      "250/250 [==============================] - 0s 1ms/step - loss: 0.3421 - accuracy: 0.8605\n",
      "Epoch 44/100\n",
      "250/250 [==============================] - 0s 1ms/step - loss: 0.3419 - accuracy: 0.8596\n",
      "Epoch 45/100\n",
      "250/250 [==============================] - 0s 1ms/step - loss: 0.3413 - accuracy: 0.8610\n",
      "Epoch 46/100\n",
      "250/250 [==============================] - 0s 1ms/step - loss: 0.3409 - accuracy: 0.8606\n",
      "Epoch 47/100\n",
      "250/250 [==============================] - 0s 1ms/step - loss: 0.3409 - accuracy: 0.8597\n",
      "Epoch 48/100\n",
      "250/250 [==============================] - 0s 1ms/step - loss: 0.3404 - accuracy: 0.8597\n",
      "Epoch 49/100\n",
      "250/250 [==============================] - 0s 1ms/step - loss: 0.3397 - accuracy: 0.8611\n",
      "Epoch 50/100\n",
      "250/250 [==============================] - 0s 1ms/step - loss: 0.3394 - accuracy: 0.8606\n",
      "Epoch 51/100\n",
      "250/250 [==============================] - 0s 1ms/step - loss: 0.3391 - accuracy: 0.8624\n",
      "Epoch 52/100\n",
      "250/250 [==============================] - 0s 1ms/step - loss: 0.3385 - accuracy: 0.8618\n",
      "Epoch 53/100\n",
      "250/250 [==============================] - 0s 1ms/step - loss: 0.3385 - accuracy: 0.8615\n",
      "Epoch 54/100\n",
      "250/250 [==============================] - 0s 1ms/step - loss: 0.3382 - accuracy: 0.8611\n",
      "Epoch 55/100\n",
      "250/250 [==============================] - 0s 1ms/step - loss: 0.3380 - accuracy: 0.8616\n",
      "Epoch 56/100\n",
      "250/250 [==============================] - 0s 1ms/step - loss: 0.3379 - accuracy: 0.8615\n",
      "Epoch 57/100\n",
      "250/250 [==============================] - 0s 1ms/step - loss: 0.3376 - accuracy: 0.8608\n",
      "Epoch 58/100\n",
      "250/250 [==============================] - 0s 1ms/step - loss: 0.3377 - accuracy: 0.8606\n",
      "Epoch 59/100\n",
      "250/250 [==============================] - 0s 1ms/step - loss: 0.3373 - accuracy: 0.8611\n",
      "Epoch 60/100\n",
      "250/250 [==============================] - 0s 1ms/step - loss: 0.3370 - accuracy: 0.8626\n",
      "Epoch 61/100\n",
      "250/250 [==============================] - 0s 1ms/step - loss: 0.3369 - accuracy: 0.8629\n",
      "Epoch 62/100\n",
      "250/250 [==============================] - 0s 1ms/step - loss: 0.3366 - accuracy: 0.8622\n",
      "Epoch 63/100\n",
      "250/250 [==============================] - 0s 1ms/step - loss: 0.3366 - accuracy: 0.8630\n",
      "Epoch 64/100\n",
      "250/250 [==============================] - 0s 1ms/step - loss: 0.3361 - accuracy: 0.8637\n",
      "Epoch 65/100\n",
      "250/250 [==============================] - 0s 1ms/step - loss: 0.3368 - accuracy: 0.8624\n",
      "Epoch 66/100\n",
      "250/250 [==============================] - 0s 1ms/step - loss: 0.3365 - accuracy: 0.8626\n",
      "Epoch 67/100\n",
      "250/250 [==============================] - 0s 1ms/step - loss: 0.3364 - accuracy: 0.8637\n",
      "Epoch 68/100\n",
      "250/250 [==============================] - 0s 1ms/step - loss: 0.3366 - accuracy: 0.8626\n",
      "Epoch 69/100\n",
      "250/250 [==============================] - 0s 1ms/step - loss: 0.3360 - accuracy: 0.8630\n",
      "Epoch 70/100\n",
      "250/250 [==============================] - 0s 1ms/step - loss: 0.3362 - accuracy: 0.8636\n",
      "Epoch 71/100\n",
      "250/250 [==============================] - 0s 1ms/step - loss: 0.3363 - accuracy: 0.8624\n",
      "Epoch 72/100\n",
      "250/250 [==============================] - 0s 1ms/step - loss: 0.3364 - accuracy: 0.8624\n",
      "Epoch 73/100\n",
      "250/250 [==============================] - 0s 1ms/step - loss: 0.3357 - accuracy: 0.8639\n",
      "Epoch 74/100\n",
      "250/250 [==============================] - 0s 1ms/step - loss: 0.3358 - accuracy: 0.8629\n",
      "Epoch 75/100\n",
      "250/250 [==============================] - 0s 1ms/step - loss: 0.3359 - accuracy: 0.8629\n",
      "Epoch 76/100\n",
      "250/250 [==============================] - 0s 1ms/step - loss: 0.3358 - accuracy: 0.8621\n",
      "Epoch 77/100\n",
      "250/250 [==============================] - 0s 1ms/step - loss: 0.3355 - accuracy: 0.8636\n",
      "Epoch 78/100\n",
      "250/250 [==============================] - 0s 1ms/step - loss: 0.3360 - accuracy: 0.8626\n",
      "Epoch 79/100\n",
      "250/250 [==============================] - 0s 1ms/step - loss: 0.3359 - accuracy: 0.8629\n",
      "Epoch 80/100\n",
      "250/250 [==============================] - 0s 1ms/step - loss: 0.3357 - accuracy: 0.8633\n",
      "Epoch 81/100\n",
      "250/250 [==============================] - 0s 1ms/step - loss: 0.3355 - accuracy: 0.8643\n",
      "Epoch 82/100\n",
      "250/250 [==============================] - 0s 1ms/step - loss: 0.3358 - accuracy: 0.8654\n",
      "Epoch 83/100\n",
      "250/250 [==============================] - 0s 988us/step - loss: 0.3353 - accuracy: 0.8650\n",
      "Epoch 84/100\n",
      "250/250 [==============================] - 0s 1ms/step - loss: 0.3356 - accuracy: 0.8643\n",
      "Epoch 85/100\n",
      "250/250 [==============================] - 0s 1ms/step - loss: 0.3356 - accuracy: 0.8639\n",
      "Epoch 86/100\n",
      "250/250 [==============================] - 0s 1ms/step - loss: 0.3357 - accuracy: 0.8639\n",
      "Epoch 87/100\n",
      "250/250 [==============================] - 0s 1ms/step - loss: 0.3354 - accuracy: 0.8634\n",
      "Epoch 88/100\n",
      "250/250 [==============================] - 0s 1ms/step - loss: 0.3357 - accuracy: 0.8636\n",
      "Epoch 89/100\n",
      "250/250 [==============================] - 0s 1ms/step - loss: 0.3356 - accuracy: 0.8644\n",
      "Epoch 90/100\n",
      "250/250 [==============================] - 0s 990us/step - loss: 0.3352 - accuracy: 0.8630\n",
      "Epoch 91/100\n",
      "250/250 [==============================] - 0s 1ms/step - loss: 0.3352 - accuracy: 0.8645\n",
      "Epoch 92/100\n",
      "250/250 [==============================] - 0s 1ms/step - loss: 0.3350 - accuracy: 0.8645\n",
      "Epoch 93/100\n",
      "250/250 [==============================] - 0s 1ms/step - loss: 0.3353 - accuracy: 0.8627\n",
      "Epoch 94/100\n",
      "250/250 [==============================] - 0s 1ms/step - loss: 0.3352 - accuracy: 0.8634\n",
      "Epoch 95/100\n",
      "250/250 [==============================] - 0s 1ms/step - loss: 0.3350 - accuracy: 0.8639\n",
      "Epoch 96/100\n",
      "250/250 [==============================] - 0s 1ms/step - loss: 0.3349 - accuracy: 0.8644\n",
      "Epoch 97/100\n",
      "250/250 [==============================] - 0s 1ms/step - loss: 0.3348 - accuracy: 0.8633\n",
      "Epoch 98/100\n",
      "250/250 [==============================] - 0s 1ms/step - loss: 0.3353 - accuracy: 0.8631\n",
      "Epoch 99/100\n",
      "250/250 [==============================] - 0s 1ms/step - loss: 0.3348 - accuracy: 0.8648\n",
      "Epoch 100/100\n",
      "250/250 [==============================] - 0s 1ms/step - loss: 0.3351 - accuracy: 0.8641\n"
     ]
    },
    {
     "data": {
      "text/plain": [
       "<tensorflow.python.keras.callbacks.History at 0x7faa94796990>"
      ]
     },
     "execution_count": 18,
     "metadata": {},
     "output_type": "execute_result"
    }
   ],
   "source": [
    "ann.fit(X_train, y_train, batch_size = 32, epochs = 100)"
   ]
  },
  {
   "cell_type": "markdown",
   "metadata": {
    "papermill": {
     "duration": 0.269516,
     "end_time": "2021-01-01T09:36:46.928119",
     "exception": false,
     "start_time": "2021-01-01T09:36:46.658603",
     "status": "completed"
    },
    "tags": []
   },
   "source": [
    "## Part 4 - Making the predictions and evaluating the model"
   ]
  },
  {
   "cell_type": "markdown",
   "metadata": {
    "papermill": {
     "duration": 0.273288,
     "end_time": "2021-01-01T09:36:47.474124",
     "exception": false,
     "start_time": "2021-01-01T09:36:47.200836",
     "status": "completed"
    },
    "tags": []
   },
   "source": [
    "### Predicting the result of a single observation"
   ]
  },
  {
   "cell_type": "markdown",
   "metadata": {
    "papermill": {
     "duration": 0.268067,
     "end_time": "2021-01-01T09:36:48.009258",
     "exception": false,
     "start_time": "2021-01-01T09:36:47.741191",
     "status": "completed"
    },
    "tags": []
   },
   "source": [
    "Use our ANN model to predict if the customer with the following informations will leave the bank: \n",
    "\n",
    "Geography: France\n",
    "\n",
    "Credit Score: 600\n",
    "\n",
    "Gender: Male\n",
    "\n",
    "Age: 40 years old\n",
    "\n",
    "Tenure: 3 years\n",
    "\n",
    "Balance: \\$ 60000\n",
    "\n",
    "Number of Products: 2\n",
    "\n",
    "Does this customer have a credit card? Yes\n",
    "\n",
    "Is this customer an Active Member: Yes\n",
    "\n",
    "Estimated Salary: \\$ 50000\n",
    "\n",
    "So, should we say goodbye to that customer?"
   ]
  },
  {
   "cell_type": "code",
   "execution_count": 19,
   "metadata": {
    "execution": {
     "iopub.execute_input": "2021-01-01T09:36:48.559695Z",
     "iopub.status.busy": "2021-01-01T09:36:48.557692Z",
     "iopub.status.idle": "2021-01-01T09:36:48.685658Z",
     "shell.execute_reply": "2021-01-01T09:36:48.684908Z"
    },
    "papermill": {
     "duration": 0.403937,
     "end_time": "2021-01-01T09:36:48.685810",
     "exception": false,
     "start_time": "2021-01-01T09:36:48.281873",
     "status": "completed"
    },
    "tags": []
   },
   "outputs": [
    {
     "name": "stdout",
     "output_type": "stream",
     "text": [
      "[[False]]\n"
     ]
    }
   ],
   "source": [
    "print(ann.predict(sc.transform([[1, 0, 0, 600, 1, 40, 3, 60000, 2, 1, 1, 50000]])) > 0.5)"
   ]
  },
  {
   "cell_type": "markdown",
   "metadata": {
    "papermill": {
     "duration": 0.266273,
     "end_time": "2021-01-01T09:36:49.217441",
     "exception": false,
     "start_time": "2021-01-01T09:36:48.951168",
     "status": "completed"
    },
    "tags": []
   },
   "source": [
    "Therefore, our ANN model predicts that this customer stays in the bank!\n",
    "\n",
    "**Important note 1:** Notice that the values of the features were all input in a double pair of square brackets. That's because the \"predict\" method always expects a 2D array as the format of its inputs. And putting our values into a double pair of square brackets makes the input exactly a 2D array.\n",
    "\n",
    "**Important note 2:** Notice also that the \"France\" country was not input as a string in the last column but as \"1, 0, 0\" in the first three columns. That's because of course the predict method expects the one-hot-encoded values of the state, and as we see in the first row of the matrix of features X, \"France\" was encoded as \"1, 0, 0\". And be careful to include these values in the first three columns, because the dummy variables are always created in the first columns."
   ]
  },
  {
   "cell_type": "markdown",
   "metadata": {
    "papermill": {
     "duration": 0.267238,
     "end_time": "2021-01-01T09:36:49.751236",
     "exception": false,
     "start_time": "2021-01-01T09:36:49.483998",
     "status": "completed"
    },
    "tags": []
   },
   "source": [
    "### Predicting the Test set results"
   ]
  },
  {
   "cell_type": "code",
   "execution_count": 20,
   "metadata": {
    "execution": {
     "iopub.execute_input": "2021-01-01T09:36:50.295242Z",
     "iopub.status.busy": "2021-01-01T09:36:50.293356Z",
     "iopub.status.idle": "2021-01-01T09:36:50.382132Z",
     "shell.execute_reply": "2021-01-01T09:36:50.380981Z"
    },
    "papermill": {
     "duration": 0.362388,
     "end_time": "2021-01-01T09:36:50.382267",
     "exception": false,
     "start_time": "2021-01-01T09:36:50.019879",
     "status": "completed"
    },
    "tags": []
   },
   "outputs": [
    {
     "name": "stdout",
     "output_type": "stream",
     "text": [
      "[[0 0]\n",
      " [0 1]\n",
      " [0 0]\n",
      " ...\n",
      " [0 0]\n",
      " [0 0]\n",
      " [0 0]]\n"
     ]
    }
   ],
   "source": [
    "y_pred = ann.predict(X_test)\n",
    "y_pred = (y_pred > 0.5)\n",
    "print(np.concatenate((y_pred.reshape(len(y_pred),1), y_test.reshape(len(y_test),1)),1))"
   ]
  },
  {
   "cell_type": "markdown",
   "metadata": {
    "papermill": {
     "duration": 0.272081,
     "end_time": "2021-01-01T09:36:50.920680",
     "exception": false,
     "start_time": "2021-01-01T09:36:50.648599",
     "status": "completed"
    },
    "tags": []
   },
   "source": [
    "### Making the Confusion Matrix"
   ]
  },
  {
   "cell_type": "code",
   "execution_count": 21,
   "metadata": {
    "execution": {
     "iopub.execute_input": "2021-01-01T09:36:51.465025Z",
     "iopub.status.busy": "2021-01-01T09:36:51.464341Z",
     "iopub.status.idle": "2021-01-01T09:36:51.484594Z",
     "shell.execute_reply": "2021-01-01T09:36:51.485189Z"
    },
    "papermill": {
     "duration": 0.295599,
     "end_time": "2021-01-01T09:36:51.485348",
     "exception": false,
     "start_time": "2021-01-01T09:36:51.189749",
     "status": "completed"
    },
    "tags": []
   },
   "outputs": [
    {
     "name": "stdout",
     "output_type": "stream",
     "text": [
      "[[1517   78]\n",
      " [ 195  210]]\n"
     ]
    },
    {
     "data": {
      "text/plain": [
       "0.8635"
      ]
     },
     "execution_count": 21,
     "metadata": {},
     "output_type": "execute_result"
    }
   ],
   "source": [
    "from sklearn.metrics import confusion_matrix, accuracy_score\n",
    "cm = confusion_matrix(y_test, y_pred)\n",
    "print(cm)\n",
    "accuracy_score(y_test, y_pred)"
   ]
  },
  {
   "cell_type": "code",
   "execution_count": null,
   "metadata": {
    "papermill": {
     "duration": 0.274204,
     "end_time": "2021-01-01T09:36:52.030485",
     "exception": false,
     "start_time": "2021-01-01T09:36:51.756281",
     "status": "completed"
    },
    "tags": []
   },
   "outputs": [],
   "source": []
  }
 ],
 "metadata": {
  "kernelspec": {
   "display_name": "Python 3",
   "language": "python",
   "name": "python3"
  },
  "language_info": {
   "codemirror_mode": {
    "name": "ipython",
    "version": 3
   },
   "file_extension": ".py",
   "mimetype": "text/x-python",
   "name": "python",
   "nbconvert_exporter": "python",
   "pygments_lexer": "ipython3",
   "version": "3.7.6"
  },
  "papermill": {
   "duration": 48.76118,
   "end_time": "2021-01-01T09:36:52.407176",
   "environment_variables": {},
   "exception": null,
   "input_path": "__notebook__.ipynb",
   "output_path": "__notebook__.ipynb",
   "parameters": {},
   "start_time": "2021-01-01T09:36:03.645996",
   "version": "2.1.0"
  }
 },
 "nbformat": 4,
 "nbformat_minor": 4
}
